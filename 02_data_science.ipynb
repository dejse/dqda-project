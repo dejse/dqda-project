{
 "cells": [
  {
   "cell_type": "markdown",
   "metadata": {},
   "source": [
    "# Data Science mit gebrauchten Autos von Willhaben\n",
    "\n",
    "Hier befassen wir uns mit der Analyse des Datensatzes"
   ]
  },
  {
   "cell_type": "code",
   "execution_count": 15,
   "metadata": {},
   "outputs": [],
   "source": [
    "import pandas as pd\n",
    "import numpy as np\n",
    "pd.options.display.max_columns = None\n",
    "pd.options.display.max_rows = None\n"
   ]
  },
  {
   "cell_type": "code",
   "execution_count": 29,
   "metadata": {},
   "outputs": [
    {
     "name": "stderr",
     "output_type": "stream",
     "text": [
      "C:\\Users\\Admin\\AppData\\Local\\Temp\\ipykernel_7464\\1997134380.py:1: DtypeWarning: Columns (21) have mixed types. Specify dtype option on import or set low_memory=False.\n",
      "  data = pd.read_csv(\"./data/final.csv\", sep=\";\")\n"
     ]
    }
   ],
   "source": [
    "data = pd.read_csv(\"./data/final.csv\", sep=\";\")\n",
    "df = data"
   ]
  },
  {
   "cell_type": "markdown",
   "metadata": {},
   "source": [
    "\n",
    "## 1. Feature Engineering"
   ]
  },
  {
   "cell_type": "markdown",
   "metadata": {},
   "source": [
    "Das erste Ziel ist den Datensatz kennenzulernen. Dabei untersuchen wir die vorhandenen Features mittels deskriptiver Methoden. "
   ]
  },
  {
   "cell_type": "code",
   "execution_count": 25,
   "metadata": {},
   "outputs": [
    {
     "data": {
      "text/plain": [
       "Index(['id', 'heading', 'body_dyn', 'price', 'year_model', 'mileage', 'brand',\n",
       "       'model', 'car_type', 'noofseats', 'engine_effect',\n",
       "       'engine_fuel_resolved', 'transmission_resolved', 'warranty_resolved',\n",
       "       'coordinates', 'postcode', 'state', 'district', 'location', 'orgname',\n",
       "       'isprivate', 'equipment_resolved', 'ln_price', 'ln_mileage'],\n",
       "      dtype='object')"
      ]
     },
     "execution_count": 25,
     "metadata": {},
     "output_type": "execute_result"
    }
   ],
   "source": [
    "df.columns"
   ]
  },
  {
   "cell_type": "markdown",
   "metadata": {},
   "source": [
    "Wir entfernen ein paar wenig versprechende Spalten:"
   ]
  },
  {
   "cell_type": "code",
   "execution_count": 30,
   "metadata": {},
   "outputs": [],
   "source": [
    "df = df.drop(columns=[\"product_id\", \"published_string\", \"condition_resolved\", \"country\", \n",
    "    \"fnmmocount\", \"upselling_ad_searchresult\", \"no_of_owners\", \"address\", \"description\"])"
   ]
  },
  {
   "cell_type": "code",
   "execution_count": 62,
   "metadata": {},
   "outputs": [
    {
     "data": {
      "text/html": [
       "<div>\n",
       "<style scoped>\n",
       "    .dataframe tbody tr th:only-of-type {\n",
       "        vertical-align: middle;\n",
       "    }\n",
       "\n",
       "    .dataframe tbody tr th {\n",
       "        vertical-align: top;\n",
       "    }\n",
       "\n",
       "    .dataframe thead th {\n",
       "        text-align: right;\n",
       "    }\n",
       "</style>\n",
       "<table border=\"1\" class=\"dataframe\">\n",
       "  <thead>\n",
       "    <tr style=\"text-align: right;\">\n",
       "      <th></th>\n",
       "      <th>id</th>\n",
       "      <th>heading</th>\n",
       "      <th>body_dyn</th>\n",
       "      <th>price</th>\n",
       "      <th>year_model</th>\n",
       "      <th>mileage</th>\n",
       "      <th>brand</th>\n",
       "      <th>model</th>\n",
       "      <th>car_type</th>\n",
       "      <th>noofseats</th>\n",
       "      <th>engine_effect</th>\n",
       "      <th>engine_fuel_resolved</th>\n",
       "      <th>transmission_resolved</th>\n",
       "      <th>warranty_resolved</th>\n",
       "      <th>coordinates</th>\n",
       "      <th>postcode</th>\n",
       "      <th>state</th>\n",
       "      <th>district</th>\n",
       "      <th>location</th>\n",
       "      <th>orgname</th>\n",
       "      <th>isprivate</th>\n",
       "      <th>equipment_resolved</th>\n",
       "      <th>ln_price</th>\n",
       "      <th>ln_mileage</th>\n",
       "      <th>age</th>\n",
       "      <th>has_warranty</th>\n",
       "      <th>defect</th>\n",
       "    </tr>\n",
       "  </thead>\n",
       "  <tbody>\n",
       "    <tr>\n",
       "      <th>0</th>\n",
       "      <td>612174978</td>\n",
       "      <td>Skoda Octavia Combi Style TSI ACT</td>\n",
       "      <td>-</td>\n",
       "      <td>34990</td>\n",
       "      <td>2022</td>\n",
       "      <td>4500</td>\n",
       "      <td>Skoda</td>\n",
       "      <td>Octavia</td>\n",
       "      <td>Kombi / Family Van</td>\n",
       "      <td>5.0</td>\n",
       "      <td>110</td>\n",
       "      <td>Benzin</td>\n",
       "      <td>Schaltgetriebe</td>\n",
       "      <td>Nein</td>\n",
       "      <td>47.05489,15.1365</td>\n",
       "      <td>8570</td>\n",
       "      <td>Steiermark</td>\n",
       "      <td>Voitsberg</td>\n",
       "      <td>Voitsberg</td>\n",
       "      <td>F. Fripertinger GmbH</td>\n",
       "      <td>0</td>\n",
       "      <td>Bordcomputer|elektr. Fensterheber|Sitzheizung|...</td>\n",
       "      <td>10.462818</td>\n",
       "      <td>8.411833</td>\n",
       "      <td>0</td>\n",
       "      <td>0</td>\n",
       "      <td>0</td>\n",
       "    </tr>\n",
       "    <tr>\n",
       "      <th>1</th>\n",
       "      <td>612174235</td>\n",
       "      <td>VW Golf R-Line TDI 4MOTION DSG</td>\n",
       "      <td>Extras: Coming-Home-Funktion LED-Rückleuchten ...</td>\n",
       "      <td>43990</td>\n",
       "      <td>2022</td>\n",
       "      <td>3000</td>\n",
       "      <td>VW</td>\n",
       "      <td>Golf</td>\n",
       "      <td>Limousine</td>\n",
       "      <td>5.0</td>\n",
       "      <td>110</td>\n",
       "      <td>Diesel</td>\n",
       "      <td>Automatik</td>\n",
       "      <td>Nein</td>\n",
       "      <td>47.44651,15.30058</td>\n",
       "      <td>8605</td>\n",
       "      <td>Steiermark</td>\n",
       "      <td>Bruck-Mürzzuschlag</td>\n",
       "      <td>Kapfenberg</td>\n",
       "      <td>Porsche Kapfenberg</td>\n",
       "      <td>0</td>\n",
       "      <td>Leichtmetall-/Alufelgen|Anhängerkupplung|elekt...</td>\n",
       "      <td>10.691718</td>\n",
       "      <td>8.006368</td>\n",
       "      <td>0</td>\n",
       "      <td>0</td>\n",
       "      <td>0</td>\n",
       "    </tr>\n",
       "    <tr>\n",
       "      <th>2</th>\n",
       "      <td>612174149</td>\n",
       "      <td>Seat Tarraco Xcellence 2.0 TDI DSG 4Drive</td>\n",
       "      <td>Extras: Fahrwerksregelung elektronisch Automat...</td>\n",
       "      <td>38490</td>\n",
       "      <td>2019</td>\n",
       "      <td>40880</td>\n",
       "      <td>Seat</td>\n",
       "      <td>Tarraco</td>\n",
       "      <td>SUV / Geländewagen</td>\n",
       "      <td>7.0</td>\n",
       "      <td>110</td>\n",
       "      <td>Diesel</td>\n",
       "      <td>Automatik</td>\n",
       "      <td>Nein</td>\n",
       "      <td>48.56585,13.98543</td>\n",
       "      <td>4150</td>\n",
       "      <td>Oberösterreich</td>\n",
       "      <td>Rohrbach</td>\n",
       "      <td>Rohrbach in Oberösterreich</td>\n",
       "      <td>Kneidinger Center GmbH</td>\n",
       "      <td>0</td>\n",
       "      <td>Leichtmetall-/Alufelgen|Bordcomputer|elektr. F...</td>\n",
       "      <td>10.558154</td>\n",
       "      <td>10.618396</td>\n",
       "      <td>3</td>\n",
       "      <td>0</td>\n",
       "      <td>0</td>\n",
       "    </tr>\n",
       "    <tr>\n",
       "      <th>3</th>\n",
       "      <td>575429445</td>\n",
       "      <td>Suzuki Vitara 1,4 Hybrid ALLGRIP 6AGS shine</td>\n",
       "      <td>Irrtümer und Tippfehler vorbehalten.</td>\n",
       "      <td>26500</td>\n",
       "      <td>2022</td>\n",
       "      <td>610</td>\n",
       "      <td>Suzuki</td>\n",
       "      <td>Vitara</td>\n",
       "      <td>SUV / Geländewagen</td>\n",
       "      <td>5.0</td>\n",
       "      <td>95</td>\n",
       "      <td>Hybrid Elektro/Benzin</td>\n",
       "      <td>Schaltgetriebe</td>\n",
       "      <td>Ja</td>\n",
       "      <td>46.6682,12.99953</td>\n",
       "      <td>9640</td>\n",
       "      <td>Kärnten</td>\n",
       "      <td>Hermagor</td>\n",
       "      <td>Kötschach-Mauthen</td>\n",
       "      <td>Autohaus Presslauer-Webhofer GmbH</td>\n",
       "      <td>0</td>\n",
       "      <td>Servicegepflegt|Leasingfähig|elektr. Spiegel|e...</td>\n",
       "      <td>10.184900</td>\n",
       "      <td>6.413459</td>\n",
       "      <td>0</td>\n",
       "      <td>1</td>\n",
       "      <td>0</td>\n",
       "    </tr>\n",
       "    <tr>\n",
       "      <th>4</th>\n",
       "      <td>575429451</td>\n",
       "      <td>Suzuki Vitara 1,4 Hybrid ALLGRIP 6AGS flash</td>\n",
       "      <td>Fahrzeug verfügbar ab 09.2022.   Irrtümer und ...</td>\n",
       "      <td>27500</td>\n",
       "      <td>2022</td>\n",
       "      <td>620</td>\n",
       "      <td>Suzuki</td>\n",
       "      <td>Vitara</td>\n",
       "      <td>SUV / Geländewagen</td>\n",
       "      <td>5.0</td>\n",
       "      <td>95</td>\n",
       "      <td>Hybrid Elektro/Benzin</td>\n",
       "      <td>Schaltgetriebe</td>\n",
       "      <td>Ja</td>\n",
       "      <td>46.6682,12.99953</td>\n",
       "      <td>9640</td>\n",
       "      <td>Kärnten</td>\n",
       "      <td>Hermagor</td>\n",
       "      <td>Kötschach-Mauthen</td>\n",
       "      <td>Autohaus Presslauer-Webhofer GmbH</td>\n",
       "      <td>0</td>\n",
       "      <td>Servicegepflegt|Leasingfähig|elektr. Spiegel|e...</td>\n",
       "      <td>10.221941</td>\n",
       "      <td>6.429719</td>\n",
       "      <td>0</td>\n",
       "      <td>1</td>\n",
       "      <td>0</td>\n",
       "    </tr>\n",
       "    <tr>\n",
       "      <th>5</th>\n",
       "      <td>604066734</td>\n",
       "      <td>BMW 6er-Reihe 630d xDrive Gran Turismo Aut. AC...</td>\n",
       "      <td>Sie suchen eine komfortable Reiselimousine mit...</td>\n",
       "      <td>55890</td>\n",
       "      <td>2018</td>\n",
       "      <td>30000</td>\n",
       "      <td>BMW</td>\n",
       "      <td>6er-Reihe</td>\n",
       "      <td>Limousine</td>\n",
       "      <td>5.0</td>\n",
       "      <td>195</td>\n",
       "      <td>Diesel</td>\n",
       "      <td>Automatik</td>\n",
       "      <td>Ja</td>\n",
       "      <td>48.50931,15.51201</td>\n",
       "      <td>3542</td>\n",
       "      <td>Niederösterreich</td>\n",
       "      <td>Krems Land</td>\n",
       "      <td>Gföhl</td>\n",
       "      <td>Sinhuber GmbH</td>\n",
       "      <td>0</td>\n",
       "      <td>ABS|Servicegepflegt|Nichtraucherfahrzeug|Fahre...</td>\n",
       "      <td>10.931141</td>\n",
       "      <td>10.308953</td>\n",
       "      <td>4</td>\n",
       "      <td>1</td>\n",
       "      <td>0</td>\n",
       "    </tr>\n",
       "  </tbody>\n",
       "</table>\n",
       "</div>"
      ],
      "text/plain": [
       "          id                                            heading  \\\n",
       "0  612174978                  Skoda Octavia Combi Style TSI ACT   \n",
       "1  612174235                     VW Golf R-Line TDI 4MOTION DSG   \n",
       "2  612174149          Seat Tarraco Xcellence 2.0 TDI DSG 4Drive   \n",
       "3  575429445        Suzuki Vitara 1,4 Hybrid ALLGRIP 6AGS shine   \n",
       "4  575429451        Suzuki Vitara 1,4 Hybrid ALLGRIP 6AGS flash   \n",
       "5  604066734  BMW 6er-Reihe 630d xDrive Gran Turismo Aut. AC...   \n",
       "\n",
       "                                            body_dyn  price  year_model  \\\n",
       "0                                                  -  34990        2022   \n",
       "1  Extras: Coming-Home-Funktion LED-Rückleuchten ...  43990        2022   \n",
       "2  Extras: Fahrwerksregelung elektronisch Automat...  38490        2019   \n",
       "3               Irrtümer und Tippfehler vorbehalten.  26500        2022   \n",
       "4  Fahrzeug verfügbar ab 09.2022.   Irrtümer und ...  27500        2022   \n",
       "5  Sie suchen eine komfortable Reiselimousine mit...  55890        2018   \n",
       "\n",
       "   mileage   brand      model            car_type  noofseats  engine_effect  \\\n",
       "0     4500   Skoda    Octavia  Kombi / Family Van        5.0            110   \n",
       "1     3000      VW       Golf           Limousine        5.0            110   \n",
       "2    40880    Seat    Tarraco  SUV / Geländewagen        7.0            110   \n",
       "3      610  Suzuki     Vitara  SUV / Geländewagen        5.0             95   \n",
       "4      620  Suzuki     Vitara  SUV / Geländewagen        5.0             95   \n",
       "5    30000     BMW  6er-Reihe           Limousine        5.0            195   \n",
       "\n",
       "    engine_fuel_resolved transmission_resolved warranty_resolved  \\\n",
       "0                 Benzin        Schaltgetriebe              Nein   \n",
       "1                 Diesel             Automatik              Nein   \n",
       "2                 Diesel             Automatik              Nein   \n",
       "3  Hybrid Elektro/Benzin        Schaltgetriebe                Ja   \n",
       "4  Hybrid Elektro/Benzin        Schaltgetriebe                Ja   \n",
       "5                 Diesel             Automatik                Ja   \n",
       "\n",
       "         coordinates postcode             state            district  \\\n",
       "0   47.05489,15.1365     8570        Steiermark           Voitsberg   \n",
       "1  47.44651,15.30058     8605        Steiermark  Bruck-Mürzzuschlag   \n",
       "2  48.56585,13.98543     4150    Oberösterreich            Rohrbach   \n",
       "3   46.6682,12.99953     9640           Kärnten            Hermagor   \n",
       "4   46.6682,12.99953     9640           Kärnten            Hermagor   \n",
       "5  48.50931,15.51201     3542  Niederösterreich          Krems Land   \n",
       "\n",
       "                     location                            orgname  isprivate  \\\n",
       "0                   Voitsberg               F. Fripertinger GmbH          0   \n",
       "1                  Kapfenberg                 Porsche Kapfenberg          0   \n",
       "2  Rohrbach in Oberösterreich             Kneidinger Center GmbH          0   \n",
       "3           Kötschach-Mauthen  Autohaus Presslauer-Webhofer GmbH          0   \n",
       "4           Kötschach-Mauthen  Autohaus Presslauer-Webhofer GmbH          0   \n",
       "5                       Gföhl                      Sinhuber GmbH          0   \n",
       "\n",
       "                                  equipment_resolved   ln_price  ln_mileage  \\\n",
       "0  Bordcomputer|elektr. Fensterheber|Sitzheizung|...  10.462818    8.411833   \n",
       "1  Leichtmetall-/Alufelgen|Anhängerkupplung|elekt...  10.691718    8.006368   \n",
       "2  Leichtmetall-/Alufelgen|Bordcomputer|elektr. F...  10.558154   10.618396   \n",
       "3  Servicegepflegt|Leasingfähig|elektr. Spiegel|e...  10.184900    6.413459   \n",
       "4  Servicegepflegt|Leasingfähig|elektr. Spiegel|e...  10.221941    6.429719   \n",
       "5  ABS|Servicegepflegt|Nichtraucherfahrzeug|Fahre...  10.931141   10.308953   \n",
       "\n",
       "   age  has_warranty  defect  \n",
       "0    0             0       0  \n",
       "1    0             0       0  \n",
       "2    3             0       0  \n",
       "3    0             1       0  \n",
       "4    0             1       0  \n",
       "5    4             1       0  "
      ]
     },
     "execution_count": 62,
     "metadata": {},
     "output_type": "execute_result"
    }
   ],
   "source": [
    "df.head(6)"
   ]
  },
  {
   "cell_type": "markdown",
   "metadata": {},
   "source": [
    "Aus den ersten sechs Zeilen sieht man, wo sich `pandas` schwer tut mit den Datentypen. Deshalb setzen wir die types selbst:"
   ]
  },
  {
   "cell_type": "code",
   "execution_count": 58,
   "metadata": {},
   "outputs": [],
   "source": [
    "df = df.astype({\n",
    "  \"id\": str, \n",
    "  \"body_dyn\": str,\n",
    "  \"engine_fuel_resolved\": \"category\", \n",
    "  \"transmission_resolved\": \"category\",\n",
    "  \"postcode\": str\n",
    "  })"
   ]
  },
  {
   "cell_type": "code",
   "execution_count": 21,
   "metadata": {},
   "outputs": [
    {
     "name": "stdout",
     "output_type": "stream",
     "text": [
      "<class 'pandas.core.frame.DataFrame'>\n",
      "RangeIndex: 220108 entries, 0 to 220107\n",
      "Data columns (total 22 columns):\n",
      " #   Column                 Non-Null Count   Dtype   \n",
      "---  ------                 --------------   -----   \n",
      " 0   id                     220108 non-null  object  \n",
      " 1   heading                220108 non-null  object  \n",
      " 2   body_dyn               220064 non-null  object  \n",
      " 3   price                  220108 non-null  int64   \n",
      " 4   year_model             220108 non-null  int64   \n",
      " 5   mileage                220108 non-null  int64   \n",
      " 6   brand                  220108 non-null  object  \n",
      " 7   model                  220108 non-null  object  \n",
      " 8   car_type               220108 non-null  object  \n",
      " 9   noofseats              217319 non-null  float64 \n",
      " 10  engine_effect          220108 non-null  int64   \n",
      " 11  engine_fuel_resolved   219656 non-null  category\n",
      " 12  transmission_resolved  219898 non-null  category\n",
      " 13  warranty_resolved      220108 non-null  object  \n",
      " 14  coordinates            219776 non-null  object  \n",
      " 15  postcode               220108 non-null  object  \n",
      " 16  state                  220108 non-null  object  \n",
      " 17  district               220108 non-null  object  \n",
      " 18  location               220108 non-null  object  \n",
      " 19  orgname                122950 non-null  object  \n",
      " 20  isprivate              220108 non-null  int64   \n",
      " 21  equipment_resolved     198515 non-null  object  \n",
      "dtypes: category(2), float64(1), int64(5), object(14)\n",
      "memory usage: 34.0+ MB\n"
     ]
    }
   ],
   "source": [
    "df.info()"
   ]
  },
  {
   "cell_type": "markdown",
   "metadata": {},
   "source": [
    "Anschließend erstellen wir ein paar neue Features, die für später relevant sein können:"
   ]
  },
  {
   "cell_type": "code",
   "execution_count": 65,
   "metadata": {},
   "outputs": [],
   "source": [
    "df[\"ln_price\"] = df[\"price\"].apply(lambda x: np.log(x) if x > 0 else 0)\n",
    "df[\"ln_mileage\"] = df[\"mileage\"].apply(lambda x: np.log(x) if x > 0 else 0)\n",
    "df[\"age\"] = 2022 - df[\"year_model\"]\n",
    "df[\"has_warranty\"] = df[\"warranty_resolved\"].apply(lambda x: 1 if x in \"Ja\" else 0)\n",
    "df[\"gewerblich\"] = 1 - df[\"isprivate\"]\n",
    "df[\"ps\"] = 1.36 * df[\"engine_effect\"] \n",
    "\n",
    "def check_defect(text: str):\n",
    "  defect = 1 if sum([word in text.lower() for word in [\"schaden\", \"unfall\"]]) > 0 else 0\n",
    "  return defect\n",
    "df[\"defect\"] = df[\"body_dyn\"].apply(check_defect)"
   ]
  },
  {
   "cell_type": "code",
   "execution_count": 64,
   "metadata": {},
   "outputs": [
    {
     "data": {
      "text/plain": [
       "count    220108.000000\n",
       "mean          0.435981\n",
       "std           0.495886\n",
       "min           0.000000\n",
       "25%           0.000000\n",
       "50%           0.000000\n",
       "75%           1.000000\n",
       "max           1.000000\n",
       "Name: isprivate, dtype: float64"
      ]
     },
     "execution_count": 64,
     "metadata": {},
     "output_type": "execute_result"
    }
   ],
   "source": []
  }
 ],
 "metadata": {
  "kernelspec": {
   "display_name": "Python 3.9.13 ('base')",
   "language": "python",
   "name": "python3"
  },
  "language_info": {
   "codemirror_mode": {
    "name": "ipython",
    "version": 3
   },
   "file_extension": ".py",
   "mimetype": "text/x-python",
   "name": "python",
   "nbconvert_exporter": "python",
   "pygments_lexer": "ipython3",
   "version": "3.9.13"
  },
  "orig_nbformat": 4,
  "vscode": {
   "interpreter": {
    "hash": "2043299c89c8cd0b4d1a6f5cf4529bd58e6a4e0fe3181a25e0d328c821cdc5c5"
   }
  }
 },
 "nbformat": 4,
 "nbformat_minor": 2
}
