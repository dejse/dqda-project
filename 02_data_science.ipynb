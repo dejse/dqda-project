{
 "cells": [
  {
   "cell_type": "markdown",
   "metadata": {},
   "source": [
    "# Data Science mit gebrauchten Autos von Willhaben\n",
    "\n",
    "Hier befassen wir uns mit der Analyse des Datensatzes"
   ]
  },
  {
   "cell_type": "code",
   "execution_count": 31,
   "metadata": {},
   "outputs": [],
   "source": [
    "import pandas as pd\n",
    "import numpy as np\n",
    "pd.options.display.max_columns = None\n",
    "pd.options.display.max_rows = None\n"
   ]
  },
  {
   "cell_type": "code",
   "execution_count": 24,
   "metadata": {},
   "outputs": [
    {
     "name": "stderr",
     "output_type": "stream",
     "text": [
      "C:\\Users\\Admin\\AppData\\Local\\Temp\\ipykernel_4572\\4230953392.py:1: DtypeWarning: Columns (21) have mixed types. Specify dtype option on import or set low_memory=False.\n",
      "  df = pd.read_csv(\"./data/final.csv\", sep=\";\")\n"
     ]
    }
   ],
   "source": [
    "df = pd.read_csv(\"./data/final.csv\", sep=\";\")"
   ]
  },
  {
   "cell_type": "markdown",
   "metadata": {},
   "source": [
    "\n",
    "## 1. Feature Engineering"
   ]
  },
  {
   "cell_type": "markdown",
   "metadata": {},
   "source": [
    "Das erste Ziel ist den Datensatz kennenzulernen. Dabei untersuchen wir die vorhandenen Features mittels deskriptiver Methoden. "
   ]
  },
  {
   "cell_type": "code",
   "execution_count": 25,
   "metadata": {},
   "outputs": [
    {
     "data": {
      "text/plain": [
       "Index(['id', 'description', 'product_id', 'heading', 'body_dyn', 'price',\n",
       "       'year_model', 'mileage', 'brand', 'model', 'car_type', 'no_of_owners',\n",
       "       'noofseats', 'engine_effect', 'engine_fuel_resolved',\n",
       "       'transmission_resolved', 'condition_resolved', 'warranty_resolved',\n",
       "       'published_string', 'country', 'coordinates', 'postcode', 'state',\n",
       "       'district', 'address', 'location', 'orgname', 'fnmmocount',\n",
       "       'upselling_ad_searchresult', 'isprivate', 'equipment_resolved'],\n",
       "      dtype='object')"
      ]
     },
     "execution_count": 25,
     "metadata": {},
     "output_type": "execute_result"
    }
   ],
   "source": [
    "df.columns"
   ]
  },
  {
   "cell_type": "markdown",
   "metadata": {},
   "source": [
    "Wir entfernen ein paar wenig versprechende Spalten:"
   ]
  },
  {
   "cell_type": "code",
   "execution_count": 26,
   "metadata": {},
   "outputs": [],
   "source": [
    "df = df.drop(columns=[\"product_id\", \"published_string\", \"condition_resolved\", \"country\"])"
   ]
  },
  {
   "cell_type": "code",
   "execution_count": 20,
   "metadata": {},
   "outputs": [
    {
     "data": {
      "text/html": [
       "<div>\n",
       "<style scoped>\n",
       "    .dataframe tbody tr th:only-of-type {\n",
       "        vertical-align: middle;\n",
       "    }\n",
       "\n",
       "    .dataframe tbody tr th {\n",
       "        vertical-align: top;\n",
       "    }\n",
       "\n",
       "    .dataframe thead th {\n",
       "        text-align: right;\n",
       "    }\n",
       "</style>\n",
       "<table border=\"1\" class=\"dataframe\">\n",
       "  <thead>\n",
       "    <tr style=\"text-align: right;\">\n",
       "      <th></th>\n",
       "      <th>id</th>\n",
       "      <th>description</th>\n",
       "      <th>heading</th>\n",
       "      <th>body_dyn</th>\n",
       "      <th>price</th>\n",
       "      <th>year_model</th>\n",
       "      <th>mileage</th>\n",
       "      <th>brand</th>\n",
       "      <th>model</th>\n",
       "      <th>car_type</th>\n",
       "      <th>no_of_owners</th>\n",
       "      <th>noofseats</th>\n",
       "      <th>engine_effect</th>\n",
       "      <th>engine_fuel_resolved</th>\n",
       "      <th>transmission_resolved</th>\n",
       "      <th>condition_resolved</th>\n",
       "      <th>warranty_resolved</th>\n",
       "      <th>country</th>\n",
       "      <th>coordinates</th>\n",
       "      <th>postcode</th>\n",
       "      <th>state</th>\n",
       "      <th>district</th>\n",
       "      <th>address</th>\n",
       "      <th>location</th>\n",
       "      <th>orgname</th>\n",
       "      <th>fnmmocount</th>\n",
       "      <th>upselling_ad_searchresult</th>\n",
       "      <th>isprivate</th>\n",
       "      <th>equipment_resolved</th>\n",
       "    </tr>\n",
       "  </thead>\n",
       "  <tbody>\n",
       "    <tr>\n",
       "      <th>0</th>\n",
       "      <td>612174978</td>\n",
       "      <td>Skoda Octavia Combi Style TSI ACT</td>\n",
       "      <td>Skoda Octavia Combi Style TSI ACT</td>\n",
       "      <td>-</td>\n",
       "      <td>34990</td>\n",
       "      <td>2022</td>\n",
       "      <td>4500</td>\n",
       "      <td>Skoda</td>\n",
       "      <td>Octavia</td>\n",
       "      <td>Kombi / Family Van</td>\n",
       "      <td>NaN</td>\n",
       "      <td>5.0</td>\n",
       "      <td>110</td>\n",
       "      <td>Benzin</td>\n",
       "      <td>Schaltgetriebe</td>\n",
       "      <td>Gebrauchtwagen</td>\n",
       "      <td>Nein</td>\n",
       "      <td>Österreich</td>\n",
       "      <td>47.05489,15.1365</td>\n",
       "      <td>8570</td>\n",
       "      <td>Steiermark</td>\n",
       "      <td>Voitsberg</td>\n",
       "      <td>Packerstraße 4</td>\n",
       "      <td>Voitsberg</td>\n",
       "      <td>F. Fripertinger GmbH</td>\n",
       "      <td>10</td>\n",
       "      <td>NaN</td>\n",
       "      <td>0</td>\n",
       "      <td>Bordcomputer|elektr. Fensterheber|Sitzheizung|...</td>\n",
       "    </tr>\n",
       "    <tr>\n",
       "      <th>1</th>\n",
       "      <td>612174235</td>\n",
       "      <td>VW Golf R-Line TDI 4MOTION DSG</td>\n",
       "      <td>VW Golf R-Line TDI 4MOTION DSG</td>\n",
       "      <td>Extras: Coming-Home-Funktion LED-Rückleuchten ...</td>\n",
       "      <td>43990</td>\n",
       "      <td>2022</td>\n",
       "      <td>3000</td>\n",
       "      <td>VW</td>\n",
       "      <td>Golf</td>\n",
       "      <td>Limousine</td>\n",
       "      <td>NaN</td>\n",
       "      <td>5.0</td>\n",
       "      <td>110</td>\n",
       "      <td>Diesel</td>\n",
       "      <td>Automatik</td>\n",
       "      <td>Gebrauchtwagen</td>\n",
       "      <td>Nein</td>\n",
       "      <td>Österreich</td>\n",
       "      <td>47.44651,15.30058</td>\n",
       "      <td>8605</td>\n",
       "      <td>Steiermark</td>\n",
       "      <td>Bruck-Mürzzuschlag</td>\n",
       "      <td>Wiener Strasse 77</td>\n",
       "      <td>Kapfenberg</td>\n",
       "      <td>Porsche Kapfenberg</td>\n",
       "      <td>19</td>\n",
       "      <td>NaN</td>\n",
       "      <td>0</td>\n",
       "      <td>Leichtmetall-/Alufelgen|Anhängerkupplung|elekt...</td>\n",
       "    </tr>\n",
       "    <tr>\n",
       "      <th>2</th>\n",
       "      <td>612174149</td>\n",
       "      <td>Seat Tarraco Xcellence 2.0 TDI DSG 4Drive</td>\n",
       "      <td>Seat Tarraco Xcellence 2.0 TDI DSG 4Drive</td>\n",
       "      <td>Extras: Fahrwerksregelung elektronisch Automat...</td>\n",
       "      <td>38490</td>\n",
       "      <td>2019</td>\n",
       "      <td>40880</td>\n",
       "      <td>Seat</td>\n",
       "      <td>Tarraco</td>\n",
       "      <td>SUV / Geländewagen</td>\n",
       "      <td>NaN</td>\n",
       "      <td>7.0</td>\n",
       "      <td>110</td>\n",
       "      <td>Diesel</td>\n",
       "      <td>Automatik</td>\n",
       "      <td>Gebrauchtwagen</td>\n",
       "      <td>Nein</td>\n",
       "      <td>Österreich</td>\n",
       "      <td>48.56585,13.98543</td>\n",
       "      <td>4150</td>\n",
       "      <td>Oberösterreich</td>\n",
       "      <td>Rohrbach</td>\n",
       "      <td>Gewerbeallee 24</td>\n",
       "      <td>Rohrbach in Oberösterreich</td>\n",
       "      <td>Kneidinger Center GmbH</td>\n",
       "      <td>15</td>\n",
       "      <td>NaN</td>\n",
       "      <td>0</td>\n",
       "      <td>Leichtmetall-/Alufelgen|Bordcomputer|elektr. F...</td>\n",
       "    </tr>\n",
       "  </tbody>\n",
       "</table>\n",
       "</div>"
      ],
      "text/plain": [
       "          id                                description  \\\n",
       "0  612174978          Skoda Octavia Combi Style TSI ACT   \n",
       "1  612174235             VW Golf R-Line TDI 4MOTION DSG   \n",
       "2  612174149  Seat Tarraco Xcellence 2.0 TDI DSG 4Drive   \n",
       "\n",
       "                                     heading  \\\n",
       "0          Skoda Octavia Combi Style TSI ACT   \n",
       "1             VW Golf R-Line TDI 4MOTION DSG   \n",
       "2  Seat Tarraco Xcellence 2.0 TDI DSG 4Drive   \n",
       "\n",
       "                                            body_dyn  price  year_model  \\\n",
       "0                                                  -  34990        2022   \n",
       "1  Extras: Coming-Home-Funktion LED-Rückleuchten ...  43990        2022   \n",
       "2  Extras: Fahrwerksregelung elektronisch Automat...  38490        2019   \n",
       "\n",
       "   mileage  brand    model            car_type  no_of_owners  noofseats  \\\n",
       "0     4500  Skoda  Octavia  Kombi / Family Van           NaN        5.0   \n",
       "1     3000     VW     Golf           Limousine           NaN        5.0   \n",
       "2    40880   Seat  Tarraco  SUV / Geländewagen           NaN        7.0   \n",
       "\n",
       "   engine_effect engine_fuel_resolved transmission_resolved  \\\n",
       "0            110               Benzin        Schaltgetriebe   \n",
       "1            110               Diesel             Automatik   \n",
       "2            110               Diesel             Automatik   \n",
       "\n",
       "  condition_resolved warranty_resolved     country        coordinates  \\\n",
       "0     Gebrauchtwagen              Nein  Österreich   47.05489,15.1365   \n",
       "1     Gebrauchtwagen              Nein  Österreich  47.44651,15.30058   \n",
       "2     Gebrauchtwagen              Nein  Österreich  48.56585,13.98543   \n",
       "\n",
       "  postcode           state            district            address  \\\n",
       "0     8570      Steiermark           Voitsberg     Packerstraße 4   \n",
       "1     8605      Steiermark  Bruck-Mürzzuschlag  Wiener Strasse 77   \n",
       "2     4150  Oberösterreich            Rohrbach    Gewerbeallee 24   \n",
       "\n",
       "                     location                 orgname  fnmmocount  \\\n",
       "0                   Voitsberg    F. Fripertinger GmbH          10   \n",
       "1                  Kapfenberg      Porsche Kapfenberg          19   \n",
       "2  Rohrbach in Oberösterreich  Kneidinger Center GmbH          15   \n",
       "\n",
       "  upselling_ad_searchresult  isprivate  \\\n",
       "0                       NaN          0   \n",
       "1                       NaN          0   \n",
       "2                       NaN          0   \n",
       "\n",
       "                                  equipment_resolved  \n",
       "0  Bordcomputer|elektr. Fensterheber|Sitzheizung|...  \n",
       "1  Leichtmetall-/Alufelgen|Anhängerkupplung|elekt...  \n",
       "2  Leichtmetall-/Alufelgen|Bordcomputer|elektr. F...  "
      ]
     },
     "execution_count": 20,
     "metadata": {},
     "output_type": "execute_result"
    }
   ],
   "source": [
    "df.head(3)"
   ]
  },
  {
   "cell_type": "markdown",
   "metadata": {},
   "source": [
    "Aus den ersten drei Zeilen sieht man, wo sich `pandas` schwer tut mit den Datentypen. Deshalb setzen wir die types selbst:"
   ]
  },
  {
   "cell_type": "code",
   "execution_count": 27,
   "metadata": {},
   "outputs": [],
   "source": [
    "df = df.astype({\n",
    "  \"id\": str, \n",
    "  \"engine_fuel_resolved\": \"category\", \n",
    "  \"transmission_resolved\": \"category\",\n",
    "  \"postcode\": str\n",
    "  })"
   ]
  },
  {
   "cell_type": "code",
   "execution_count": 34,
   "metadata": {},
   "outputs": [
    {
     "name": "stdout",
     "output_type": "stream",
     "text": [
      "<class 'pandas.core.frame.DataFrame'>\n",
      "RangeIndex: 220108 entries, 0 to 220107\n",
      "Data columns (total 27 columns):\n",
      " #   Column                     Non-Null Count   Dtype   \n",
      "---  ------                     --------------   -----   \n",
      " 0   id                         220108 non-null  object  \n",
      " 1   description                220108 non-null  object  \n",
      " 2   heading                    220108 non-null  object  \n",
      " 3   body_dyn                   220064 non-null  object  \n",
      " 4   price                      220108 non-null  int64   \n",
      " 5   year_model                 220108 non-null  int64   \n",
      " 6   mileage                    220108 non-null  int64   \n",
      " 7   brand                      220108 non-null  object  \n",
      " 8   model                      220108 non-null  object  \n",
      " 9   car_type                   220108 non-null  object  \n",
      " 10  no_of_owners               84183 non-null   float64 \n",
      " 11  noofseats                  217319 non-null  float64 \n",
      " 12  engine_effect              220108 non-null  int64   \n",
      " 13  engine_fuel_resolved       219656 non-null  category\n",
      " 14  transmission_resolved      219898 non-null  category\n",
      " 15  warranty_resolved          220108 non-null  object  \n",
      " 16  coordinates                219776 non-null  object  \n",
      " 17  postcode                   220108 non-null  object  \n",
      " 18  state                      220108 non-null  object  \n",
      " 19  district                   220108 non-null  object  \n",
      " 20  address                    151578 non-null  object  \n",
      " 21  location                   220108 non-null  object  \n",
      " 22  orgname                    122950 non-null  object  \n",
      " 23  fnmmocount                 220108 non-null  int64   \n",
      " 24  upselling_ad_searchresult  28412 non-null   object  \n",
      " 25  isprivate                  220108 non-null  int64   \n",
      " 26  equipment_resolved         198515 non-null  object  \n",
      "dtypes: category(2), float64(2), int64(6), object(17)\n",
      "memory usage: 42.4+ MB\n"
     ]
    }
   ],
   "source": [
    "df.info()"
   ]
  },
  {
   "cell_type": "markdown",
   "metadata": {},
   "source": [
    "Da wir `fnmmocount` nicht interpretieren können und `upselling_ad_searchresult` und `no_of_owners` eher wenig Daten haben, entfernen wir die Spalten ebenfalls. "
   ]
  }
 ],
 "metadata": {
  "kernelspec": {
   "display_name": "Python 3.9.13 ('base')",
   "language": "python",
   "name": "python3"
  },
  "language_info": {
   "codemirror_mode": {
    "name": "ipython",
    "version": 3
   },
   "file_extension": ".py",
   "mimetype": "text/x-python",
   "name": "python",
   "nbconvert_exporter": "python",
   "pygments_lexer": "ipython3",
   "version": "3.9.13"
  },
  "orig_nbformat": 4,
  "vscode": {
   "interpreter": {
    "hash": "2043299c89c8cd0b4d1a6f5cf4529bd58e6a4e0fe3181a25e0d328c821cdc5c5"
   }
  }
 },
 "nbformat": 4,
 "nbformat_minor": 2
}
