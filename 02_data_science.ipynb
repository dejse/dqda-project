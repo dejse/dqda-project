{
 "cells": [
  {
   "cell_type": "markdown",
   "metadata": {},
   "source": [
    "# Data Science mit gebrauchten Autos von Willhaben\n",
    "\n",
    "Hier befassen wir uns mit der Analyse des Datensatzes"
   ]
  },
  {
   "cell_type": "code",
   "execution_count": 1,
   "metadata": {},
   "outputs": [],
   "source": [
    "import pandas as pd\n",
    "import numpy as np\n",
    "import gc\n",
    "pd.options.display.max_columns = None\n",
    "pd.options.display.max_colwidth = None\n",
    "pd.options.display.max_rows = 30"
   ]
  },
  {
   "cell_type": "code",
   "execution_count": 2,
   "metadata": {},
   "outputs": [
    {
     "name": "stderr",
     "output_type": "stream",
     "text": [
      "C:\\Users\\Admin\\AppData\\Local\\Temp\\ipykernel_11600\\4230953392.py:1: DtypeWarning: Columns (21) have mixed types. Specify dtype option on import or set low_memory=False.\n",
      "  df = pd.read_csv(\"./data/final.csv\", sep=\";\")\n"
     ]
    }
   ],
   "source": [
    "df = pd.read_csv(\"./data/final.csv\", sep=\";\")"
   ]
  },
  {
   "cell_type": "markdown",
   "metadata": {},
   "source": [
    "\n",
    "## 1. Feature Engineering"
   ]
  },
  {
   "cell_type": "markdown",
   "metadata": {},
   "source": [
    "Das erste Ziel ist den Datensatz kennenzulernen. Dabei untersuchen wir die vorhandenen Features mittels deskriptiver Methoden. "
   ]
  },
  {
   "cell_type": "code",
   "execution_count": 3,
   "metadata": {},
   "outputs": [
    {
     "data": {
      "text/plain": [
       "Index(['id', 'description', 'product_id', 'heading', 'body_dyn', 'price',\n",
       "       'year_model', 'mileage', 'brand', 'model', 'car_type', 'no_of_owners',\n",
       "       'noofseats', 'engine_effect', 'engine_fuel_resolved',\n",
       "       'transmission_resolved', 'condition_resolved', 'warranty_resolved',\n",
       "       'published_string', 'country', 'coordinates', 'postcode', 'state',\n",
       "       'district', 'address', 'location', 'orgname', 'fnmmocount',\n",
       "       'upselling_ad_searchresult', 'isprivate', 'equipment_resolved'],\n",
       "      dtype='object')"
      ]
     },
     "execution_count": 3,
     "metadata": {},
     "output_type": "execute_result"
    }
   ],
   "source": [
    "df.columns"
   ]
  },
  {
   "cell_type": "markdown",
   "metadata": {},
   "source": [
    "Wir entfernen ein paar wenig versprechende Spalten:"
   ]
  },
  {
   "cell_type": "code",
   "execution_count": 4,
   "metadata": {},
   "outputs": [],
   "source": [
    "df = df.drop(columns=[\"product_id\", \"published_string\", \"condition_resolved\", \"country\", \"noofseats\",\n",
    "                      \"fnmmocount\", \"upselling_ad_searchresult\", \"no_of_owners\", \"address\", \"description\"])\n"
   ]
  },
  {
   "cell_type": "code",
   "execution_count": 5,
   "metadata": {},
   "outputs": [
    {
     "data": {
      "text/html": [
       "<div>\n",
       "<style scoped>\n",
       "    .dataframe tbody tr th:only-of-type {\n",
       "        vertical-align: middle;\n",
       "    }\n",
       "\n",
       "    .dataframe tbody tr th {\n",
       "        vertical-align: top;\n",
       "    }\n",
       "\n",
       "    .dataframe thead th {\n",
       "        text-align: right;\n",
       "    }\n",
       "</style>\n",
       "<table border=\"1\" class=\"dataframe\">\n",
       "  <thead>\n",
       "    <tr style=\"text-align: right;\">\n",
       "      <th></th>\n",
       "      <th>id</th>\n",
       "      <th>heading</th>\n",
       "      <th>body_dyn</th>\n",
       "      <th>price</th>\n",
       "      <th>year_model</th>\n",
       "      <th>mileage</th>\n",
       "      <th>brand</th>\n",
       "      <th>model</th>\n",
       "      <th>car_type</th>\n",
       "      <th>engine_effect</th>\n",
       "      <th>engine_fuel_resolved</th>\n",
       "      <th>transmission_resolved</th>\n",
       "      <th>warranty_resolved</th>\n",
       "      <th>coordinates</th>\n",
       "      <th>postcode</th>\n",
       "      <th>state</th>\n",
       "      <th>district</th>\n",
       "      <th>location</th>\n",
       "      <th>orgname</th>\n",
       "      <th>isprivate</th>\n",
       "      <th>equipment_resolved</th>\n",
       "    </tr>\n",
       "  </thead>\n",
       "  <tbody>\n",
       "    <tr>\n",
       "      <th>0</th>\n",
       "      <td>612174978</td>\n",
       "      <td>Skoda Octavia Combi Style TSI ACT</td>\n",
       "      <td>-</td>\n",
       "      <td>34990</td>\n",
       "      <td>2022</td>\n",
       "      <td>4500</td>\n",
       "      <td>Skoda</td>\n",
       "      <td>Octavia</td>\n",
       "      <td>Kombi / Family Van</td>\n",
       "      <td>110</td>\n",
       "      <td>Benzin</td>\n",
       "      <td>Schaltgetriebe</td>\n",
       "      <td>Nein</td>\n",
       "      <td>47.05489,15.1365</td>\n",
       "      <td>8570</td>\n",
       "      <td>Steiermark</td>\n",
       "      <td>Voitsberg</td>\n",
       "      <td>Voitsberg</td>\n",
       "      <td>F. Fripertinger GmbH</td>\n",
       "      <td>0</td>\n",
       "      <td>Bordcomputer|elektr. Fensterheber|Sitzheizung|Zentralverriegelung|Beifahrerairbags|Anhängerkupplung|Stabilitätsprogramme (ESP)|Keyless entry|Mittelarmlehne|Nebelscheinwerfer|Tagfahrlicht|Freisprecheinrichtung|Rückfahrkamera|Sportpaket|LED-Scheinwerfer|Klimaautomatik|Media-Interface / mp3|Aut. Heckklappe|ABS|Antriebsschlupfregelung (ASR)|Klimaanlage</td>\n",
       "    </tr>\n",
       "    <tr>\n",
       "      <th>1</th>\n",
       "      <td>612174235</td>\n",
       "      <td>VW Golf R-Line TDI 4MOTION DSG</td>\n",
       "      <td>Extras: Coming-Home-Funktion LED-Rückleuchten 3-Punktautomatikgurte hinten Climatronic Digitales Display Thermoverglasung Heckspoiler Frontscheibenantenne</td>\n",
       "      <td>43990</td>\n",
       "      <td>2022</td>\n",
       "      <td>3000</td>\n",
       "      <td>VW</td>\n",
       "      <td>Golf</td>\n",
       "      <td>Limousine</td>\n",
       "      <td>110</td>\n",
       "      <td>Diesel</td>\n",
       "      <td>Automatik</td>\n",
       "      <td>Nein</td>\n",
       "      <td>47.44651,15.30058</td>\n",
       "      <td>8605</td>\n",
       "      <td>Steiermark</td>\n",
       "      <td>Bruck-Mürzzuschlag</td>\n",
       "      <td>Kapfenberg</td>\n",
       "      <td>Porsche Kapfenberg</td>\n",
       "      <td>0</td>\n",
       "      <td>Leichtmetall-/Alufelgen|Anhängerkupplung|elektr. Spiegel|Regensensor|Tagfahrlicht|Abstandstempomat|Rückfahrkamera|Spurhalteassistent|LED-Scheinwerfer|Reifendrucksensor|Parksensor vorne &amp; hinten|Tempomat|Parksensor hinten</td>\n",
       "    </tr>\n",
       "    <tr>\n",
       "      <th>2</th>\n",
       "      <td>612174149</td>\n",
       "      <td>Seat Tarraco Xcellence 2.0 TDI DSG 4Drive</td>\n",
       "      <td>Extras: Fahrwerksregelung elektronisch Automatische Distanzregelung</td>\n",
       "      <td>38490</td>\n",
       "      <td>2019</td>\n",
       "      <td>40880</td>\n",
       "      <td>Seat</td>\n",
       "      <td>Tarraco</td>\n",
       "      <td>SUV / Geländewagen</td>\n",
       "      <td>110</td>\n",
       "      <td>Diesel</td>\n",
       "      <td>Automatik</td>\n",
       "      <td>Nein</td>\n",
       "      <td>48.56585,13.98543</td>\n",
       "      <td>4150</td>\n",
       "      <td>Oberösterreich</td>\n",
       "      <td>Rohrbach</td>\n",
       "      <td>Rohrbach in Oberösterreich</td>\n",
       "      <td>Kneidinger Center GmbH</td>\n",
       "      <td>0</td>\n",
       "      <td>Leichtmetall-/Alufelgen|Bordcomputer|elektr. Fensterheber|Navigationssystem|Servolenkung|Radio|Sitzheizung|Tempomat|Kopfairbags|Beifahrerairbags|Seitenairbags|Anhängerkupplung|elektr. Spiegel|elektr. Sitze|Keyless entry|ISOFIX|Mittelarmlehne|Multifunktionslenkrad|Nebelscheinwerfer|Panoramadach|Parksensor hinten|Sportsitze|Freisprecheinrichtung|Rückfahrkamera|Spurhalteassistent|LED-Scheinwerfer|Klimaautomatik|Media-Interface / mp3|Parksensor vorne &amp; hinten|Aut. Heckklappe|Klimaanlage|Zentralverriegelung</td>\n",
       "    </tr>\n",
       "    <tr>\n",
       "      <th>3</th>\n",
       "      <td>575429445</td>\n",
       "      <td>Suzuki Vitara 1,4 Hybrid ALLGRIP 6AGS shine</td>\n",
       "      <td>Irrtümer und Tippfehler vorbehalten.</td>\n",
       "      <td>26500</td>\n",
       "      <td>2022</td>\n",
       "      <td>610</td>\n",
       "      <td>Suzuki</td>\n",
       "      <td>Vitara</td>\n",
       "      <td>SUV / Geländewagen</td>\n",
       "      <td>95</td>\n",
       "      <td>Hybrid Elektro/Benzin</td>\n",
       "      <td>Schaltgetriebe</td>\n",
       "      <td>Ja</td>\n",
       "      <td>46.6682,12.99953</td>\n",
       "      <td>9640</td>\n",
       "      <td>Kärnten</td>\n",
       "      <td>Hermagor</td>\n",
       "      <td>Kötschach-Mauthen</td>\n",
       "      <td>Autohaus Presslauer-Webhofer GmbH</td>\n",
       "      <td>0</td>\n",
       "      <td>Servicegepflegt|Leasingfähig|elektr. Spiegel|elektr. Fensterheber|Klimaautomatik|Multifunktionslenkrad|Servolenkung|Sitzheizung|Start/Stopp-Automatik|Tempomat|Zentralverriegelung|Lederlenkrad|Leichtmetall-/Alufelgen|Metallic-Lackierung|ABS|Abstandstempomat|Beifahrerairbags|Fahrerairbag|Notbremsassistent|Reifendrucksensor|Seitenairbags|Spurhalteassistent|Totwinkelassistent|Lichtsensor|LED-Scheinwerfer|Nebelscheinwerfer|Tagfahrlicht|Rückfahrkamera|Bluetooth / USB|Bordcomputer|Freisprecheinrichtung|Media-Interface / mp3|Navigationssystem|Klimaanlage</td>\n",
       "    </tr>\n",
       "    <tr>\n",
       "      <th>4</th>\n",
       "      <td>575429451</td>\n",
       "      <td>Suzuki Vitara 1,4 Hybrid ALLGRIP 6AGS flash</td>\n",
       "      <td>Fahrzeug verfügbar ab 09.2022.   Irrtümer und Tippfehler vorbehalten.</td>\n",
       "      <td>27500</td>\n",
       "      <td>2022</td>\n",
       "      <td>620</td>\n",
       "      <td>Suzuki</td>\n",
       "      <td>Vitara</td>\n",
       "      <td>SUV / Geländewagen</td>\n",
       "      <td>95</td>\n",
       "      <td>Hybrid Elektro/Benzin</td>\n",
       "      <td>Schaltgetriebe</td>\n",
       "      <td>Ja</td>\n",
       "      <td>46.6682,12.99953</td>\n",
       "      <td>9640</td>\n",
       "      <td>Kärnten</td>\n",
       "      <td>Hermagor</td>\n",
       "      <td>Kötschach-Mauthen</td>\n",
       "      <td>Autohaus Presslauer-Webhofer GmbH</td>\n",
       "      <td>0</td>\n",
       "      <td>Servicegepflegt|Leasingfähig|elektr. Spiegel|elektr. Fensterheber|Klimaautomatik|Multifunktionslenkrad|Regensensor|Servolenkung|Sitzheizung|Start/Stopp-Automatik|Tempomat|Zentralverriegelung|Lederlenkrad|Keyless entry|Leichtmetall-/Alufelgen|ABS|Abstandstempomat|Beifahrerairbags|Stabilitätsprogramme (ESP)|Fahrerairbag|Notbremsassistent|Reifendrucksensor|Seitenairbags|Spurhalteassistent|Totwinkelassistent|Lichtsensor|LED-Scheinwerfer|Nebelscheinwerfer|Tagfahrlicht|Parksensor hinten|Rückfahrkamera|Bluetooth / USB|Bordcomputer|Freisprecheinrichtung|Media-Interface / mp3|Navigationssystem|Antriebsschlupfregelung (ASR)|Klimaanlage</td>\n",
       "    </tr>\n",
       "  </tbody>\n",
       "</table>\n",
       "</div>"
      ],
      "text/plain": [
       "          id                                      heading  \\\n",
       "0  612174978            Skoda Octavia Combi Style TSI ACT   \n",
       "1  612174235               VW Golf R-Line TDI 4MOTION DSG   \n",
       "2  612174149    Seat Tarraco Xcellence 2.0 TDI DSG 4Drive   \n",
       "3  575429445  Suzuki Vitara 1,4 Hybrid ALLGRIP 6AGS shine   \n",
       "4  575429451  Suzuki Vitara 1,4 Hybrid ALLGRIP 6AGS flash   \n",
       "\n",
       "                                                                                                                                                     body_dyn  \\\n",
       "0                                                                                                                                                           -   \n",
       "1  Extras: Coming-Home-Funktion LED-Rückleuchten 3-Punktautomatikgurte hinten Climatronic Digitales Display Thermoverglasung Heckspoiler Frontscheibenantenne   \n",
       "2                                                                                         Extras: Fahrwerksregelung elektronisch Automatische Distanzregelung   \n",
       "3                                                                                                                        Irrtümer und Tippfehler vorbehalten.   \n",
       "4                                                                                       Fahrzeug verfügbar ab 09.2022.   Irrtümer und Tippfehler vorbehalten.   \n",
       "\n",
       "   price  year_model  mileage   brand    model            car_type  \\\n",
       "0  34990        2022     4500   Skoda  Octavia  Kombi / Family Van   \n",
       "1  43990        2022     3000      VW     Golf           Limousine   \n",
       "2  38490        2019    40880    Seat  Tarraco  SUV / Geländewagen   \n",
       "3  26500        2022      610  Suzuki   Vitara  SUV / Geländewagen   \n",
       "4  27500        2022      620  Suzuki   Vitara  SUV / Geländewagen   \n",
       "\n",
       "   engine_effect   engine_fuel_resolved transmission_resolved  \\\n",
       "0            110                 Benzin        Schaltgetriebe   \n",
       "1            110                 Diesel             Automatik   \n",
       "2            110                 Diesel             Automatik   \n",
       "3             95  Hybrid Elektro/Benzin        Schaltgetriebe   \n",
       "4             95  Hybrid Elektro/Benzin        Schaltgetriebe   \n",
       "\n",
       "  warranty_resolved        coordinates postcode           state  \\\n",
       "0              Nein   47.05489,15.1365     8570      Steiermark   \n",
       "1              Nein  47.44651,15.30058     8605      Steiermark   \n",
       "2              Nein  48.56585,13.98543     4150  Oberösterreich   \n",
       "3                Ja   46.6682,12.99953     9640         Kärnten   \n",
       "4                Ja   46.6682,12.99953     9640         Kärnten   \n",
       "\n",
       "             district                    location  \\\n",
       "0           Voitsberg                   Voitsberg   \n",
       "1  Bruck-Mürzzuschlag                  Kapfenberg   \n",
       "2            Rohrbach  Rohrbach in Oberösterreich   \n",
       "3            Hermagor           Kötschach-Mauthen   \n",
       "4            Hermagor           Kötschach-Mauthen   \n",
       "\n",
       "                             orgname  isprivate  \\\n",
       "0               F. Fripertinger GmbH          0   \n",
       "1                 Porsche Kapfenberg          0   \n",
       "2             Kneidinger Center GmbH          0   \n",
       "3  Autohaus Presslauer-Webhofer GmbH          0   \n",
       "4  Autohaus Presslauer-Webhofer GmbH          0   \n",
       "\n",
       "                                                                                                                                                                                                                                                                                                                                                                                                                                                                                                                                                                                                                                          equipment_resolved  \n",
       "0                                                                                                                                                                                                                                                                                             Bordcomputer|elektr. Fensterheber|Sitzheizung|Zentralverriegelung|Beifahrerairbags|Anhängerkupplung|Stabilitätsprogramme (ESP)|Keyless entry|Mittelarmlehne|Nebelscheinwerfer|Tagfahrlicht|Freisprecheinrichtung|Rückfahrkamera|Sportpaket|LED-Scheinwerfer|Klimaautomatik|Media-Interface / mp3|Aut. Heckklappe|ABS|Antriebsschlupfregelung (ASR)|Klimaanlage  \n",
       "1                                                                                                                                                                                                                                                                                                                                                                                                                               Leichtmetall-/Alufelgen|Anhängerkupplung|elektr. Spiegel|Regensensor|Tagfahrlicht|Abstandstempomat|Rückfahrkamera|Spurhalteassistent|LED-Scheinwerfer|Reifendrucksensor|Parksensor vorne & hinten|Tempomat|Parksensor hinten  \n",
       "2                                                                                                                                Leichtmetall-/Alufelgen|Bordcomputer|elektr. Fensterheber|Navigationssystem|Servolenkung|Radio|Sitzheizung|Tempomat|Kopfairbags|Beifahrerairbags|Seitenairbags|Anhängerkupplung|elektr. Spiegel|elektr. Sitze|Keyless entry|ISOFIX|Mittelarmlehne|Multifunktionslenkrad|Nebelscheinwerfer|Panoramadach|Parksensor hinten|Sportsitze|Freisprecheinrichtung|Rückfahrkamera|Spurhalteassistent|LED-Scheinwerfer|Klimaautomatik|Media-Interface / mp3|Parksensor vorne & hinten|Aut. Heckklappe|Klimaanlage|Zentralverriegelung  \n",
       "3                                                                                   Servicegepflegt|Leasingfähig|elektr. Spiegel|elektr. Fensterheber|Klimaautomatik|Multifunktionslenkrad|Servolenkung|Sitzheizung|Start/Stopp-Automatik|Tempomat|Zentralverriegelung|Lederlenkrad|Leichtmetall-/Alufelgen|Metallic-Lackierung|ABS|Abstandstempomat|Beifahrerairbags|Fahrerairbag|Notbremsassistent|Reifendrucksensor|Seitenairbags|Spurhalteassistent|Totwinkelassistent|Lichtsensor|LED-Scheinwerfer|Nebelscheinwerfer|Tagfahrlicht|Rückfahrkamera|Bluetooth / USB|Bordcomputer|Freisprecheinrichtung|Media-Interface / mp3|Navigationssystem|Klimaanlage  \n",
       "4  Servicegepflegt|Leasingfähig|elektr. Spiegel|elektr. Fensterheber|Klimaautomatik|Multifunktionslenkrad|Regensensor|Servolenkung|Sitzheizung|Start/Stopp-Automatik|Tempomat|Zentralverriegelung|Lederlenkrad|Keyless entry|Leichtmetall-/Alufelgen|ABS|Abstandstempomat|Beifahrerairbags|Stabilitätsprogramme (ESP)|Fahrerairbag|Notbremsassistent|Reifendrucksensor|Seitenairbags|Spurhalteassistent|Totwinkelassistent|Lichtsensor|LED-Scheinwerfer|Nebelscheinwerfer|Tagfahrlicht|Parksensor hinten|Rückfahrkamera|Bluetooth / USB|Bordcomputer|Freisprecheinrichtung|Media-Interface / mp3|Navigationssystem|Antriebsschlupfregelung (ASR)|Klimaanlage  "
      ]
     },
     "execution_count": 5,
     "metadata": {},
     "output_type": "execute_result"
    }
   ],
   "source": [
    "df.head(5)"
   ]
  },
  {
   "cell_type": "markdown",
   "metadata": {},
   "source": [
    "Aus den ersten fünf Zeilen sieht man, wo sich `pandas` schwer tut mit den Datentypen. Deshalb setzen wir die types selbst:"
   ]
  },
  {
   "cell_type": "code",
   "execution_count": 6,
   "metadata": {},
   "outputs": [],
   "source": [
    "df = df.astype({\n",
    "    \"id\": str,\n",
    "    \"body_dyn\": str,\n",
    "    \"engine_fuel_resolved\": \"category\",\n",
    "    \"transmission_resolved\": \"category\",\n",
    "    \"postcode\": str,\n",
    "    \"equipment_resolved\": str\n",
    "})\n"
   ]
  },
  {
   "cell_type": "markdown",
   "metadata": {},
   "source": [
    "Anschließend erstellen wir ein paar neue Features, die für später relevant sein können:"
   ]
  },
  {
   "cell_type": "code",
   "execution_count": 7,
   "metadata": {},
   "outputs": [],
   "source": [
    "## Feature Engineering (cleaning, new Features)\n",
    "df[\"orgname\"] = df[\"orgname\"].apply(lambda x: str(x).strip())\n",
    "df[\"fuel\"] = df[\"engine_fuel_resolved\"]\n",
    "df[\"transmission\"] = df[\"transmission_resolved\"]\n",
    "\n",
    "df[\"ln_price\"] = df[\"price\"].apply(lambda x: np.log(x) if x > 0 else 0)\n",
    "df[\"ln_mileage\"] = df[\"mileage\"].apply(lambda x: np.log(x) if x > 0 else 0)\n",
    "df[\"age\"] = 2022 - df[\"year_model\"]\n",
    "df[\"has_warranty\"] = df[\"warranty_resolved\"].apply(lambda x: 1 if x in \"Ja\" else 0)\n",
    "df[\"is_gewerblich\"] = 1 - df[\"isprivate\"]\n",
    "df[\"ps\"] = 1.36 * df[\"engine_effect\"] \n",
    "\n",
    "def check_defect(text: str):\n",
    "    defect = 1 if sum([word in text.lower() for word in [\"schaden\", \"unfall\"]]) > 0 else 0\n",
    "    return defect\n",
    "df[\"has_defect\"] = df[\"body_dyn\"].apply(check_defect)\n",
    "\n",
    "df[\"is_servicegepflegt\"] = df[\"equipment_resolved\"].apply(lambda x: 1 if \"servicegepflegt\" in x.lower() else 0)\n",
    "df[\"is_leasing\"] = df[\"equipment_resolved\"].apply(lambda x: 1 if \"leasingfähig\" in x.lower() else 0)\n",
    "df[\"has_alufelgen\"] = df[\"equipment_resolved\"].apply(lambda x: 1 if \"alufelgen\" in x.lower() else 0)\n",
    "df[\"length_heading\"] = df[\"heading\"].apply(len)\n",
    "\n",
    "def check_luxury(brand: str):\n",
    "    luxury_brands = [\"mercedes\", \"bmw\", \"audi\", \"porsche\", \"ferrari\", \"maseratti\", \n",
    "            \"bentley\", \"lamborghini\", \"aston martin\"]\n",
    "    is_luxury = 1 if brand.lower() in luxury_brands else 0\n",
    "    return is_luxury\n",
    "df[\"is_luxury\"] = df[\"brand\"].apply(check_luxury)"
   ]
  },
  {
   "cell_type": "markdown",
   "metadata": {},
   "source": [
    "Zusätzlich führen wir Dummy Variablen ein für `fuel` und `transmission`, die mehrere Ausprägungen haben. Eine Spalte entfernen wir, um die \"Dummy Falle\" bei der linearen Regression zu vermeiden. "
   ]
  },
  {
   "cell_type": "code",
   "execution_count": 8,
   "metadata": {},
   "outputs": [],
   "source": [
    "## Dummies\n",
    "dummies = pd.concat([\n",
    "    pd.get_dummies(df[\"fuel\"], prefix=\"d\"),\n",
    "    pd.get_dummies(df[\"transmission\"], prefix=\"d\")\n",
    "], axis=1)\n",
    "# avoid dummy trap in lin reg\n",
    "dummies = dummies.drop(columns=[\"d_Benzin\", \"d_Schaltgetriebe\"])\n",
    "\n",
    "df = pd.concat([df, dummies], axis=1)\n"
   ]
  },
  {
   "cell_type": "markdown",
   "metadata": {},
   "source": [
    "Nach dem Feature Engineering räumen wir den Datensatz nochmal auf, in wem wir nicht benötigte Spalten entfernen und "
   ]
  },
  {
   "cell_type": "code",
   "execution_count": 9,
   "metadata": {},
   "outputs": [
    {
     "data": {
      "text/plain": [
       "141"
      ]
     },
     "execution_count": 9,
     "metadata": {},
     "output_type": "execute_result"
    }
   ],
   "source": [
    "df = df.drop(columns=[\n",
    "    \"heading\", \"body_dyn\", \"engine_effect\", \"engine_fuel_resolved\", \"transmission_resolved\",\n",
    "    \"warranty_resolved\", \"equipment_resolved\", \"isprivate\"\n",
    "])\n",
    "df = df.drop_duplicates(subset=\"id\")\n",
    "gc.collect()\n"
   ]
  },
  {
   "cell_type": "markdown",
   "metadata": {},
   "source": [
    "So schaut der finale Datensatz aus:"
   ]
  },
  {
   "cell_type": "code",
   "execution_count": 10,
   "metadata": {},
   "outputs": [
    {
     "name": "stdout",
     "output_type": "stream",
     "text": [
      "<class 'pandas.core.frame.DataFrame'>\n",
      "Int64Index: 145428 entries, 0 to 220105\n",
      "Data columns (total 34 columns):\n",
      " #   Column                   Non-Null Count   Dtype   \n",
      "---  ------                   --------------   -----   \n",
      " 0   id                       145428 non-null  object  \n",
      " 1   price                    145428 non-null  int64   \n",
      " 2   year_model               145428 non-null  int64   \n",
      " 3   mileage                  145428 non-null  int64   \n",
      " 4   brand                    145428 non-null  object  \n",
      " 5   model                    145428 non-null  object  \n",
      " 6   car_type                 145428 non-null  object  \n",
      " 7   coordinates              145163 non-null  object  \n",
      " 8   postcode                 145428 non-null  object  \n",
      " 9   state                    145428 non-null  object  \n",
      " 10  district                 145428 non-null  object  \n",
      " 11  location                 145428 non-null  object  \n",
      " 12  orgname                  145428 non-null  object  \n",
      " 13  fuel                     145115 non-null  category\n",
      " 14  transmission             145306 non-null  category\n",
      " 15  ln_price                 145428 non-null  float64 \n",
      " 16  ln_mileage               145428 non-null  float64 \n",
      " 17  age                      145428 non-null  int64   \n",
      " 18  has_warranty             145428 non-null  int64   \n",
      " 19  is_gewerblich            145428 non-null  int64   \n",
      " 20  ps                       145428 non-null  float64 \n",
      " 21  has_defect               145428 non-null  int64   \n",
      " 22  is_servicegepflegt       145428 non-null  int64   \n",
      " 23  is_leasing               145428 non-null  int64   \n",
      " 24  has_alufelgen            145428 non-null  int64   \n",
      " 25  length_heading           145428 non-null  int64   \n",
      " 26  is_luxury                145428 non-null  int64   \n",
      " 27  d_Diesel                 145428 non-null  uint8   \n",
      " 28  d_Elektro                145428 non-null  uint8   \n",
      " 29  d_Gas                    145428 non-null  uint8   \n",
      " 30  d_Hybrid Elektro/Benzin  145428 non-null  uint8   \n",
      " 31  d_Hybrid Elektro/Diesel  145428 non-null  uint8   \n",
      " 32  d_Wasserstoff            145428 non-null  uint8   \n",
      " 33  d_Automatik              145428 non-null  uint8   \n",
      "dtypes: category(2), float64(3), int64(12), object(10), uint8(7)\n",
      "memory usage: 30.1+ MB\n"
     ]
    }
   ],
   "source": [
    "df.info()\n"
   ]
  },
  {
   "cell_type": "markdown",
   "metadata": {},
   "source": [
    "## 2. Explorative Datenanalyse\n",
    "\n",
    "Nun schauen wir uns den Datensatz mittels verschiedenster Plots an und hoffen erste explorative Erkenntnisse zu finden. Für die Plots benutzen wir `seaborn`, da mit relativ wenig Aufwand schöne Plots erzeugt werden. "
   ]
  },
  {
   "cell_type": "code",
   "execution_count": 11,
   "metadata": {},
   "outputs": [
    {
     "data": {
      "text/plain": [
       "Index(['id', 'price', 'year_model', 'mileage', 'brand', 'model', 'car_type',\n",
       "       'coordinates', 'postcode', 'state', 'district', 'location', 'orgname',\n",
       "       'fuel', 'transmission', 'ln_price', 'ln_mileage', 'age', 'has_warranty',\n",
       "       'is_gewerblich', 'ps', 'has_defect', 'is_servicegepflegt', 'is_leasing',\n",
       "       'has_alufelgen', 'length_heading', 'is_luxury', 'd_Diesel', 'd_Elektro',\n",
       "       'd_Gas', 'd_Hybrid Elektro/Benzin', 'd_Hybrid Elektro/Diesel',\n",
       "       'd_Wasserstoff', 'd_Automatik'],\n",
       "      dtype='object')"
      ]
     },
     "execution_count": 11,
     "metadata": {},
     "output_type": "execute_result"
    }
   ],
   "source": [
    "import matplotlib.pyplot as plt\n",
    "import seaborn as sns\n",
    "\n",
    "df.columns"
   ]
  },
  {
   "cell_type": "markdown",
   "metadata": {},
   "source": [
    "Wichtig wäre noch zu wissen, wie viele `NaN` im Datensatz sind. Dazu eignet sich ein Heatmap für den schnellen visuellen Scan. Da recht wenige Zeilen betroffen sind, droppen wir diese gleich mit. "
   ]
  },
  {
   "cell_type": "code",
   "execution_count": 12,
   "metadata": {},
   "outputs": [
    {
     "data": {
      "image/png": "[encoded data removed]",
      "text/plain": [
       "<Figure size 640x480 with 2 Axes>"
      ]
     },
     "metadata": {},
     "output_type": "display_data"
    }
   ],
   "source": [
    "sns.heatmap(df.isna())\n",
    "df = df.dropna()"
   ]
  },
  {
   "cell_type": "markdown",
   "metadata": {},
   "source": [
    "Anschließend schauen wir uns einmal eine Summary der numerischen Daten an:"
   ]
  },
  {
   "cell_type": "code",
   "execution_count": 13,
   "metadata": {},
   "outputs": [
    {
     "data": {
      "text/html": [
       "<div>\n",
       "<style scoped>\n",
       "    .dataframe tbody tr th:only-of-type {\n",
       "        vertical-align: middle;\n",
       "    }\n",
       "\n",
       "    .dataframe tbody tr th {\n",
       "        vertical-align: top;\n",
       "    }\n",
       "\n",
       "    .dataframe thead th {\n",
       "        text-align: right;\n",
       "    }\n",
       "</style>\n",
       "<table border=\"1\" class=\"dataframe\">\n",
       "  <thead>\n",
       "    <tr style=\"text-align: right;\">\n",
       "      <th></th>\n",
       "      <th>price</th>\n",
       "      <th>year_model</th>\n",
       "      <th>mileage</th>\n",
       "      <th>ln_price</th>\n",
       "      <th>ln_mileage</th>\n",
       "      <th>age</th>\n",
       "      <th>has_warranty</th>\n",
       "      <th>is_gewerblich</th>\n",
       "      <th>ps</th>\n",
       "      <th>has_defect</th>\n",
       "      <th>is_servicegepflegt</th>\n",
       "      <th>is_leasing</th>\n",
       "      <th>has_alufelgen</th>\n",
       "      <th>length_heading</th>\n",
       "      <th>is_luxury</th>\n",
       "      <th>d_Diesel</th>\n",
       "      <th>d_Elektro</th>\n",
       "      <th>d_Gas</th>\n",
       "      <th>d_Hybrid Elektro/Benzin</th>\n",
       "      <th>d_Hybrid Elektro/Diesel</th>\n",
       "      <th>d_Wasserstoff</th>\n",
       "      <th>d_Automatik</th>\n",
       "    </tr>\n",
       "  </thead>\n",
       "  <tbody>\n",
       "    <tr>\n",
       "      <th>count</th>\n",
       "      <td>1.447510e+05</td>\n",
       "      <td>144751.000000</td>\n",
       "      <td>144751.000000</td>\n",
       "      <td>144751.000000</td>\n",
       "      <td>144751.000000</td>\n",
       "      <td>144751.000000</td>\n",
       "      <td>144751.000000</td>\n",
       "      <td>144751.000000</td>\n",
       "      <td>144751.000000</td>\n",
       "      <td>144751.000000</td>\n",
       "      <td>144751.000000</td>\n",
       "      <td>144751.000000</td>\n",
       "      <td>144751.000000</td>\n",
       "      <td>144751.000000</td>\n",
       "      <td>144751.000000</td>\n",
       "      <td>144751.000000</td>\n",
       "      <td>144751.000000</td>\n",
       "      <td>144751.000000</td>\n",
       "      <td>144751.000000</td>\n",
       "      <td>144751.000000</td>\n",
       "      <td>144751.000000</td>\n",
       "      <td>144751.000000</td>\n",
       "    </tr>\n",
       "    <tr>\n",
       "      <th>mean</th>\n",
       "      <td>2.346876e+04</td>\n",
       "      <td>2013.016642</td>\n",
       "      <td>112812.315279</td>\n",
       "      <td>9.626011</td>\n",
       "      <td>10.739831</td>\n",
       "      <td>8.983358</td>\n",
       "      <td>0.195964</td>\n",
       "      <td>0.521516</td>\n",
       "      <td>157.157254</td>\n",
       "      <td>0.045589</td>\n",
       "      <td>0.460045</td>\n",
       "      <td>0.186120</td>\n",
       "      <td>0.672203</td>\n",
       "      <td>33.450539</td>\n",
       "      <td>0.264537</td>\n",
       "      <td>0.553716</td>\n",
       "      <td>0.021720</td>\n",
       "      <td>0.000767</td>\n",
       "      <td>0.032594</td>\n",
       "      <td>0.009471</td>\n",
       "      <td>0.000048</td>\n",
       "      <td>0.466332</td>\n",
       "    </tr>\n",
       "    <tr>\n",
       "      <th>std</th>\n",
       "      <td>3.108771e+04</td>\n",
       "      <td>9.296146</td>\n",
       "      <td>91207.626376</td>\n",
       "      <td>1.036309</td>\n",
       "      <td>2.300358</td>\n",
       "      <td>9.296146</td>\n",
       "      <td>0.396942</td>\n",
       "      <td>0.499539</td>\n",
       "      <td>80.736482</td>\n",
       "      <td>0.208592</td>\n",
       "      <td>0.498403</td>\n",
       "      <td>0.389205</td>\n",
       "      <td>0.469412</td>\n",
       "      <td>17.090047</td>\n",
       "      <td>0.441088</td>\n",
       "      <td>0.497108</td>\n",
       "      <td>0.145768</td>\n",
       "      <td>0.027681</td>\n",
       "      <td>0.177572</td>\n",
       "      <td>0.096860</td>\n",
       "      <td>0.006954</td>\n",
       "      <td>0.498867</td>\n",
       "    </tr>\n",
       "    <tr>\n",
       "      <th>min</th>\n",
       "      <td>1.000000e+00</td>\n",
       "      <td>1900.000000</td>\n",
       "      <td>0.000000</td>\n",
       "      <td>0.000000</td>\n",
       "      <td>0.000000</td>\n",
       "      <td>0.000000</td>\n",
       "      <td>0.000000</td>\n",
       "      <td>0.000000</td>\n",
       "      <td>0.000000</td>\n",
       "      <td>0.000000</td>\n",
       "      <td>0.000000</td>\n",
       "      <td>0.000000</td>\n",
       "      <td>0.000000</td>\n",
       "      <td>2.000000</td>\n",
       "      <td>0.000000</td>\n",
       "      <td>0.000000</td>\n",
       "      <td>0.000000</td>\n",
       "      <td>0.000000</td>\n",
       "      <td>0.000000</td>\n",
       "      <td>0.000000</td>\n",
       "      <td>0.000000</td>\n",
       "      <td>0.000000</td>\n",
       "    </tr>\n",
       "    <tr>\n",
       "      <th>25%</th>\n",
       "      <td>8.800000e+03</td>\n",
       "      <td>2009.000000</td>\n",
       "      <td>32470.000000</td>\n",
       "      <td>9.082507</td>\n",
       "      <td>10.388072</td>\n",
       "      <td>3.000000</td>\n",
       "      <td>0.000000</td>\n",
       "      <td>0.000000</td>\n",
       "      <td>110.160000</td>\n",
       "      <td>0.000000</td>\n",
       "      <td>0.000000</td>\n",
       "      <td>0.000000</td>\n",
       "      <td>0.000000</td>\n",
       "      <td>21.000000</td>\n",
       "      <td>0.000000</td>\n",
       "      <td>0.000000</td>\n",
       "      <td>0.000000</td>\n",
       "      <td>0.000000</td>\n",
       "      <td>0.000000</td>\n",
       "      <td>0.000000</td>\n",
       "      <td>0.000000</td>\n",
       "      <td>0.000000</td>\n",
       "    </tr>\n",
       "    <tr>\n",
       "      <th>50%</th>\n",
       "      <td>1.820000e+04</td>\n",
       "      <td>2016.000000</td>\n",
       "      <td>99328.000000</td>\n",
       "      <td>9.809177</td>\n",
       "      <td>11.506183</td>\n",
       "      <td>6.000000</td>\n",
       "      <td>0.000000</td>\n",
       "      <td>1.000000</td>\n",
       "      <td>140.080000</td>\n",
       "      <td>0.000000</td>\n",
       "      <td>0.000000</td>\n",
       "      <td>0.000000</td>\n",
       "      <td>1.000000</td>\n",
       "      <td>31.000000</td>\n",
       "      <td>0.000000</td>\n",
       "      <td>1.000000</td>\n",
       "      <td>0.000000</td>\n",
       "      <td>0.000000</td>\n",
       "      <td>0.000000</td>\n",
       "      <td>0.000000</td>\n",
       "      <td>0.000000</td>\n",
       "      <td>0.000000</td>\n",
       "    </tr>\n",
       "    <tr>\n",
       "      <th>75%</th>\n",
       "      <td>2.990000e+04</td>\n",
       "      <td>2019.000000</td>\n",
       "      <td>174000.000000</td>\n",
       "      <td>10.305614</td>\n",
       "      <td>12.066811</td>\n",
       "      <td>13.000000</td>\n",
       "      <td>0.000000</td>\n",
       "      <td>1.000000</td>\n",
       "      <td>187.680000</td>\n",
       "      <td>0.000000</td>\n",
       "      <td>1.000000</td>\n",
       "      <td>0.000000</td>\n",
       "      <td>1.000000</td>\n",
       "      <td>44.000000</td>\n",
       "      <td>1.000000</td>\n",
       "      <td>1.000000</td>\n",
       "      <td>0.000000</td>\n",
       "      <td>0.000000</td>\n",
       "      <td>0.000000</td>\n",
       "      <td>0.000000</td>\n",
       "      <td>0.000000</td>\n",
       "      <td>1.000000</td>\n",
       "    </tr>\n",
       "    <tr>\n",
       "      <th>max</th>\n",
       "      <td>5.840000e+06</td>\n",
       "      <td>2022.000000</td>\n",
       "      <td>940000.000000</td>\n",
       "      <td>15.580241</td>\n",
       "      <td>13.753635</td>\n",
       "      <td>122.000000</td>\n",
       "      <td>1.000000</td>\n",
       "      <td>1.000000</td>\n",
       "      <td>1251.200000</td>\n",
       "      <td>1.000000</td>\n",
       "      <td>1.000000</td>\n",
       "      <td>1.000000</td>\n",
       "      <td>1.000000</td>\n",
       "      <td>662.000000</td>\n",
       "      <td>1.000000</td>\n",
       "      <td>1.000000</td>\n",
       "      <td>1.000000</td>\n",
       "      <td>1.000000</td>\n",
       "      <td>1.000000</td>\n",
       "      <td>1.000000</td>\n",
       "      <td>1.000000</td>\n",
       "      <td>1.000000</td>\n",
       "    </tr>\n",
       "  </tbody>\n",
       "</table>\n",
       "</div>"
      ],
      "text/plain": [
       "              price     year_model        mileage       ln_price  \\\n",
       "count  1.447510e+05  144751.000000  144751.000000  144751.000000   \n",
       "mean   2.346876e+04    2013.016642  112812.315279       9.626011   \n",
       "std    3.108771e+04       9.296146   91207.626376       1.036309   \n",
       "min    1.000000e+00    1900.000000       0.000000       0.000000   \n",
       "25%    8.800000e+03    2009.000000   32470.000000       9.082507   \n",
       "50%    1.820000e+04    2016.000000   99328.000000       9.809177   \n",
       "75%    2.990000e+04    2019.000000  174000.000000      10.305614   \n",
       "max    5.840000e+06    2022.000000  940000.000000      15.580241   \n",
       "\n",
       "          ln_mileage            age   has_warranty  is_gewerblich  \\\n",
       "count  144751.000000  144751.000000  144751.000000  144751.000000   \n",
       "mean       10.739831       8.983358       0.195964       0.521516   \n",
       "std         2.300358       9.296146       0.396942       0.499539   \n",
       "min         0.000000       0.000000       0.000000       0.000000   \n",
       "25%        10.388072       3.000000       0.000000       0.000000   \n",
       "50%        11.506183       6.000000       0.000000       1.000000   \n",
       "75%        12.066811      13.000000       0.000000       1.000000   \n",
       "max        13.753635     122.000000       1.000000       1.000000   \n",
       "\n",
       "                  ps     has_defect  is_servicegepflegt     is_leasing  \\\n",
       "count  144751.000000  144751.000000       144751.000000  144751.000000   \n",
       "mean      157.157254       0.045589            0.460045       0.186120   \n",
       "std        80.736482       0.208592            0.498403       0.389205   \n",
       "min         0.000000       0.000000            0.000000       0.000000   \n",
       "25%       110.160000       0.000000            0.000000       0.000000   \n",
       "50%       140.080000       0.000000            0.000000       0.000000   \n",
       "75%       187.680000       0.000000            1.000000       0.000000   \n",
       "max      1251.200000       1.000000            1.000000       1.000000   \n",
       "\n",
       "       has_alufelgen  length_heading      is_luxury       d_Diesel  \\\n",
       "count  144751.000000   144751.000000  144751.000000  144751.000000   \n",
       "mean        0.672203       33.450539       0.264537       0.553716   \n",
       "std         0.469412       17.090047       0.441088       0.497108   \n",
       "min         0.000000        2.000000       0.000000       0.000000   \n",
       "25%         0.000000       21.000000       0.000000       0.000000   \n",
       "50%         1.000000       31.000000       0.000000       1.000000   \n",
       "75%         1.000000       44.000000       1.000000       1.000000   \n",
       "max         1.000000      662.000000       1.000000       1.000000   \n",
       "\n",
       "           d_Elektro          d_Gas  d_Hybrid Elektro/Benzin  \\\n",
       "count  144751.000000  144751.000000            144751.000000   \n",
       "mean        0.021720       0.000767                 0.032594   \n",
       "std         0.145768       0.027681                 0.177572   \n",
       "min         0.000000       0.000000                 0.000000   \n",
       "25%         0.000000       0.000000                 0.000000   \n",
       "50%         0.000000       0.000000                 0.000000   \n",
       "75%         0.000000       0.000000                 0.000000   \n",
       "max         1.000000       1.000000                 1.000000   \n",
       "\n",
       "       d_Hybrid Elektro/Diesel  d_Wasserstoff    d_Automatik  \n",
       "count            144751.000000  144751.000000  144751.000000  \n",
       "mean                  0.009471       0.000048       0.466332  \n",
       "std                   0.096860       0.006954       0.498867  \n",
       "min                   0.000000       0.000000       0.000000  \n",
       "25%                   0.000000       0.000000       0.000000  \n",
       "50%                   0.000000       0.000000       0.000000  \n",
       "75%                   0.000000       0.000000       1.000000  \n",
       "max                   1.000000       1.000000       1.000000  "
      ]
     },
     "execution_count": 13,
     "metadata": {},
     "output_type": "execute_result"
    }
   ],
   "source": [
    "df.describe()"
   ]
  },
  {
   "cell_type": "markdown",
   "metadata": {},
   "source": [
    "Einige recht interessante \"stylized facts\" kann man bereits über Mittelwerte erkennen:\n",
    "\n",
    "- Im Durchschnitt kostet ein Auto EUR 23.400, hat ein Baujahr von 2013 (9 Jahre alt), ca 113.000 km Laufleistung und 157 PS. \n",
    "- Etwa 19% haben eine Garantie, 52% werden gewerblich angeboten und 19% sind leasingfähig.\n",
    "- 4% hatten einen Unfall, 46% sind servicegepflegt, 67% haben Alufelgen, 26% sind Luxusmarken (Mercedes, BMW, ...)\n",
    "- 55% sind Diesel, 2% sind Elektro, Rest sind hauptsächlich Benziner\n",
    "- 46% haben eine Automatik"
   ]
  },
  {
   "cell_type": "markdown",
   "metadata": {},
   "source": [
    "Da Preise und Laufleistung sehr schiefe Verteilungen sein können, haben wir schon vorab die Logarithmen gebildet. Mit Histogramme überprüfen wir kurz, ob sich unsere Annahme bestätigt hat, dass es besser wäre mit Logs zu arbeiten. "
   ]
  },
  {
   "cell_type": "code",
   "execution_count": 14,
   "metadata": {},
   "outputs": [
    {
     "data": {
      "text/plain": [
       "<AxesSubplot:xlabel='ln_mileage', ylabel='Count'>"
      ]
     },
     "execution_count": 14,
     "metadata": {},
     "output_type": "execute_result"
    },
    {
     "data": {
      "image/png": "[encoded data removed]",
      "text/plain": [
       "<Figure size 1400x1000 with 4 Axes>"
      ]
     },
     "metadata": {},
     "output_type": "display_data"
    }
   ],
   "source": [
    "fig, axes = plt.subplots(2, 2, figsize=(14, 10))\n",
    "\n",
    "sns.histplot(ax=axes[0, 0], data=df, x=\"price\", bins=20)\n",
    "sns.histplot(ax=axes[0, 1], data=df, x=\"ln_price\", bins=20)\n",
    "sns.histplot(ax=axes[1, 0], data=df, x=\"mileage\", bins=20)\n",
    "sns.histplot(ax=axes[1, 1], data=df, x=\"ln_mileage\", bins=20)\n"
   ]
  }
 ],
 "metadata": {
  "kernelspec": {
   "display_name": "Python 3.9.13 ('base')",
   "language": "python",
   "name": "python3"
  },
  "language_info": {
   "codemirror_mode": {
    "name": "ipython",
    "version": 3
   },
   "file_extension": ".py",
   "mimetype": "text/x-python",
   "name": "python",
   "nbconvert_exporter": "python",
   "pygments_lexer": "ipython3",
   "version": "3.9.13"
  },
  "orig_nbformat": 4,
  "vscode": {
   "interpreter": {
    "hash": "2043299c89c8cd0b4d1a6f5cf4529bd58e6a4e0fe3181a25e0d328c821cdc5c5"
   }
  }
 },
 "nbformat": 4,
 "nbformat_minor": 2
}
