{
 "cells": [
  {
   "cell_type": "markdown",
   "metadata": {},
   "source": [
    "# Willhaben - der österreichische Gebrauchtwagenmarkt\n",
    "\n",
    "## Projekt Vorstellung\n",
    "\n",
    "Willhaben.at ist eine der größten Marktplattformen in Österreich, auf denen Gebrauchtwagen gehandelt werden. Im Schnitt sind ca. 100.000 Autos gelistet (Zeitraum Oktober-November 2022). \n",
    "\n",
    "Unser Projekt verfolgt das Ziel einen Snapshot des Marktes zu machen und den Einfluss verschiedener Faktoren auf den Preis eines Autos zu analysieren. Die Fragestellungen sind nicht weltbewegend, aber die gesammelten Daten enthalten eine große Variabilität und sind eine ideale Übung um Python zu üben.\n",
    "\n"
   ]
  },
  {
   "cell_type": "markdown",
   "metadata": {},
   "source": [
    "## 0. Bevor wir starten...\n",
    "\n",
    "Wir erklären die Datenbeschaffung Schritt für Schritt im Jupyter Notebook durch, allerdings verweisen wir auch auf die Existenz der Python Skripte (machen das gleiche, nur ohne Notebook Overhead).\n",
    "\n",
    "```py\n",
    "## in Shell ausführen:\n",
    "# python scripts/01scrapper.py\n",
    "# python scripts/02json_to_csv.py\n",
    "# python scripty/03validation.py\n",
    "```"
   ]
  },
  {
   "cell_type": "markdown",
   "metadata": {},
   "source": [
    "## 1. Web Scrapping\n",
    "\n",
    "sdf"
   ]
  }
 ],
 "metadata": {
  "kernelspec": {
   "display_name": "Python 3.9.13 ('base')",
   "language": "python",
   "name": "python3"
  },
  "language_info": {
   "name": "python",
   "version": "3.9.13"
  },
  "orig_nbformat": 4,
  "vscode": {
   "interpreter": {
    "hash": "2043299c89c8cd0b4d1a6f5cf4529bd58e6a4e0fe3181a25e0d328c821cdc5c5"
   }
  }
 },
 "nbformat": 4,
 "nbformat_minor": 2
}
