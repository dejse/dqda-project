{
 "cells": [
  {
   "cell_type": "markdown",
   "metadata": {},
   "source": [
    "# Willhaben - der österreichische Gebrauchtwagenmarkt\n",
    "\n",
    "## Projekt Vorstellung\n",
    "\n",
    "Willhaben.at kennt jeder (zumindest in Österreich)! :)\n",
    "\n",
    "Willhaben.at ist eine der größten Marktplattformen in Österreich, auf denen Gebrauchtwagen gehandelt werden. Im Durchschnitt sind ca. 100.000 Autos gelistet (Zeitraum Oktober-November 2022). \n",
    "\n",
    "Unser Projekt verfolgt das Ziel einen Snapshot des Marktes zu machen und den Einfluss verschiedener Faktoren auf den Preis eines Autos zu analysieren. Die Fragestellungen sind nicht weltbewegend, aber die gesammelten Daten enthalten eine große Variabilität und sind eine ideale Übung, um Python zu lernen.\n",
    "\n"
   ]
  },
  {
   "cell_type": "markdown",
   "metadata": {},
   "source": [
    "## 0. Bevor wir starten...\n",
    "\n",
    "Wir erklären die Datenbeschaffung Schritt für Schritt im Jupyter Notebook, allerdings verweisen wir auch auf die Existenz folgender Python Skripte (machen das gleiche, nur ohne Notebook Overhead).\n",
    "\n",
    "```sh\n",
    "## in Shell ausführen:\n",
    "$ python scripts/01scrapper.py\n",
    "$ python scripts/02json_to_csv.py\n",
    "$ python scripts/03validation.py\n",
    "```"
   ]
  },
  {
   "cell_type": "markdown",
   "metadata": {},
   "source": [
    "## 1. Web Scrapping\n",
    "\n",
    "Willhaben stellt die Daten nicht als freien Download zur Verfügung (zB in Form einer CSV Datei), sondern arbeitet sie als Inserat auf der Page ein. Um die Daten zu erhalten, müssen wir die Daten programmatisch extrahieren (\"scrappen\"). \n",
    "\n",
    "![\"Inserat\"](./assets/inserat.png)\n",
    "\n",
    "\n",
    "Als nächstes schauen wir uns die URL an, die folgende Struktur aufweist:\n",
    "\n",
    "- https://www.willhaben.at/iad/gebrauchtwagen/auto/gebrauchtwagenboerse?page=50&rows=90&PRICE_TO=25000\n",
    "\n",
    "Über Query Parameters (nach dem \"?\" in der URL) lässt sich steuern, welche Anzeigen auf Willhaben sichtbar sind. Man kann bis zu 999 Seiten anzeigen lassen (`page=999`). Über die Filter Funktion, zB \"Preis bis zu\", erfahren wir, dass `PRICE_TO` ebenfalls ein Parameter ist. Dieser ist erforderlich, um die Daten zu segmentieren, falls man mit dem theoretischen Limit von `page=999` und `rows=90` nicht auskommt (89.910 Inserate).\n",
    "\n",
    "Der nächste Schritt ist zu analysieren, wie die Seite von Willhaben aufgebaut ist. Dazu schauen wir uns den Quellcode der HTML Seite an und stellen fest, dass tatsächlich die Daten als JSON mitgeliefert werden! Hintergrund ist der, dass Willhaben.at mit dem Web Framework Next.js aufgebaut ist: Der Browser ruft die URL auf, erhält JSON Daten und über JavaScript werden einzelne HTML Elemente dynamisch ausgetauscht. \n",
    "\n",
    "Im HTML Code ist das JSON hier zu finden: \n",
    "```html\n",
    "<script id=\"__NEXT_DATA__\" type=\"application/json\">\n",
    "  // json data...\n",
    "</script>\n",
    "```\n",
    "\n",
    "Damit haben wir alle Wissenskomponenten, die wir brauchen, um die Daten zu extrahieren. Time to code!\n",
    "\n",
    "\n"
   ]
  },
  {
   "cell_type": "markdown",
   "metadata": {},
   "source": [
    "Zum Scrappen, fahren wir keine schweren Geschütze auf (e.g. Playwright), sondern nutzen die Python Library `requests`. Außerdem definieren wir zwei eigene Exceptions, falls ein Request schief geht oder das JSON Fehler enthält."
   ]
  },
  {
   "cell_type": "code",
   "execution_count": 1,
   "metadata": {},
   "outputs": [],
   "source": [
    "import requests\n",
    "import json\n",
    "import time\n",
    "from datetime import datetime\n",
    "from typing import Dict\n",
    "\n",
    "class JSONDataError(Exception):\n",
    "    pass\n",
    "\n",
    "class RequestNotSuccessfulError(Exception):\n",
    "    pass"
   ]
  },
  {
   "cell_type": "markdown",
   "metadata": {},
   "source": [
    "Requests ist sehr einfach, man schickt eine URL als Input und erhält eine Response als Output:"
   ]
  },
  {
   "cell_type": "code",
   "execution_count": 5,
   "metadata": {},
   "outputs": [
    {
     "name": "stdout",
     "output_type": "stream",
     "text": [
      "HTTP Status code: 200\n"
     ]
    }
   ],
   "source": [
    "r = requests.get(\"https://www.willhaben.at/iad/gebrauchtwagen/auto/gebrauchtwagenboerse?page=50&rows=90&PRICE_TO=25000\")\n",
    "print(f\"HTTP Status code: {r.status_code}\")\n",
    "# r.text        # der komplette HTML Code als Text"
   ]
  },
  {
   "cell_type": "markdown",
   "metadata": {},
   "source": [
    "Als Nächstes definieren wir eine Funktion, die mit Query Parameters gefüttert wird und als Output die Response des Willhaben Servers im Text Format schickt. Innerhalb der Funktion wird die URL dynamisch konstruiert und ein paar Cookies mitgeschickt (DSVGO Consent, etc.)."
   ]
  },
  {
   "cell_type": "code",
   "execution_count": 6,
   "metadata": {},
   "outputs": [],
   "source": [
    "def get_html_from_willhaben(page: int = 1, price_to: int = 0, price_from: int = 0) -> str:\n",
    "    \"\"\"\n",
    "    Scrap Willhaben Gebrauchtwagenboerse and return page html as string \n",
    "    \"\"\"\n",
    "    url = \"https://www.willhaben.at/iad/gebrauchtwagen/auto/gebrauchtwagenboerse\"\n",
    "    cookies = {\n",
    "        \"IADVISITOR\": \"a58cf0e4-74a9-40c3-bf44-5fb0b9a714bc\",\n",
    "        \"context\": \"prod\",\n",
    "        \"TRACKINGID\": \"75349b84-607f-4161-9bc4-99f8aeddb123\",\n",
    "        \"x-bbx-csrf-token\": \"5a4f4a0d-f121-4146-9f59-32ebcac0663d\",\n",
    "        \"SRV\": \"1|Y0bcV\",\n",
    "        \"didomi_token\": \"eyJ1c2VyX2lkIjoiMTgzY2NjY2EtYTMzZS02ZTA4LTkxOGYtMDNkOWYxYTIzM2U1IiwiY3JlYXRlZCI6IjIwMjItMTAtMTJUMTU6MjU6MTEuMjEyWiIsInVwZGF0ZWQiOiIyMDIyLTEwLTEyVDE1OjI1OjExLjIxMloiLCJ2ZW5kb3JzIjp7ImVuYWJsZWQiOlsiYW1hem9uIiwiZ29vZ2xlIiwiYzpvZXdhLVhBUW1HU2duIiwiYzphbWF6b24tbW9iaWxlLWFkcyIsImM6aG90amFyIiwiYzp1c2Vyem9vbSIsImM6YW1hem9uLWFzc29jaWF0ZXMiLCJjOnh4eGx1dHprLW05ZlFrUHRMIiwiYzpvcHRpb25hbGUtYm5BRXlaeHkiXX0sInB1cnBvc2VzIjp7ImVuYWJsZWQiOlsieHh4bHV0enItcWtyYXAzM1EiLCJnZW9sb2NhdGlvbl9kYXRhIiwiZGV2aWNlX2NoYXJhY3RlcmlzdGljcyJdfSwidmVuZG9yc19saSI6eyJlbmFibGVkIjpbImdvb2dsZSIsImM6d2lsbGhhYmVuLVpxR242WXh6Il19LCJ2ZXJzaW9uIjoyLCJhYyI6IkFrdUFFQUZrQkpZQS5Ba3VBQ0FrcyJ9\",\n",
    "        \"RANDOM_USER_GROUP_COOKIE_NAME\": \"48\",\n",
    "        \"euconsent-v2\": \"CPgvCMAPgvCMAAHABBENCkCsAP_AAH_AAAAAG9tf_X_fb2_j-_59f_t0eY1P9_7_v-0zjhedk-8Nyd_X_L8X52M7vB36pq4KuR4ku3LBAQdlHOHcTQmw6IkVqSPsbk2Mr7NKJ7PEmlMbOydYGH9_n1XT-ZKY79__f_7z_v-v___37r__7-3f3_vp9V-BugBJhq3EAXYljgTbRhFAiBGFYSHQCgAooBhaIDCAlcFOyuAn1hAgAQCgCMCIEOAKMGAQAAAQBIREAIEeCAAAEQCAAEACoRCAAjQBBQASBgEAAoBoWAEUAQgSEGRARFKYEBEiQUE8gQglB_oYYQh1FAAA.f_gAD_gAAAAA\",\n",
    "        \"_pbjs_userid_consent_data\": \"3265244935257896\",\n",
    "        \"COUNTER_FOR_ADVERTISING_FIRST_PARTY_UID_V2\": \"0\",\n",
    "    }\n",
    "    params = {\"rows\": 75}\n",
    "\n",
    "    if page > 0 and type(page) == int:\n",
    "        params.update({\"page\": page})\n",
    "\n",
    "    if price_to > 0 and type(price_to) == int:\n",
    "        params.update({\"PRICE_TO\": price_to})\n",
    "\n",
    "    if price_from > 0 and type(price_from) == int:\n",
    "        params.update({\"PRICE_FROM\": price_from})\n",
    "\n",
    "    r = requests.get(url, cookies=cookies, params=params, timeout=60)\n",
    "\n",
    "    if not r.ok:\n",
    "        raise RequestNotSuccessfulError(\"Request was not successful\", page)\n",
    "\n",
    "    return r.text\n"
   ]
  }
 ],
 "metadata": {
  "kernelspec": {
   "display_name": "Python 3.9.13 ('base')",
   "language": "python",
   "name": "python3"
  },
  "language_info": {
   "codemirror_mode": {
    "name": "ipython",
    "version": 3
   },
   "file_extension": ".py",
   "mimetype": "text/x-python",
   "name": "python",
   "nbconvert_exporter": "python",
   "pygments_lexer": "ipython3",
   "version": "3.9.13"
  },
  "orig_nbformat": 4,
  "vscode": {
   "interpreter": {
    "hash": "2043299c89c8cd0b4d1a6f5cf4529bd58e6a4e0fe3181a25e0d328c821cdc5c5"
   }
  }
 },
 "nbformat": 4,
 "nbformat_minor": 2
}
